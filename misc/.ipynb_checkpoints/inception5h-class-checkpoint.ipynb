{
 "cells": [
  {
   "cell_type": "code",
   "execution_count": 1,
   "metadata": {},
   "outputs": [],
   "source": [
    "import math\n",
    "import os\n",
    "import random\n",
    "import urllib\n",
    "import sys\n",
    "import zipfile\n",
    "\n",
    "import tensorflow as tf\n",
    "import numpy as np\n",
    "import PIL\n",
    "\n",
    "from scipy.ndimage.filters import gaussian_filter"
   ]
  },
  {
   "cell_type": "markdown",
   "metadata": {},
   "source": [
    "# Download"
   ]
  },
  {
   "cell_type": "code",
   "execution_count": 2,
   "metadata": {},
   "outputs": [],
   "source": [
    "model_url = 'http://storage.googleapis.com/download.tensorflow.org/models/inception5h.zip'\n",
    "base_name = model_url.split('/')[-1]\n",
    "\n",
    "model_subfolder = 'inception5h' \n",
    "target_zip_path = os.path.join(model_subfolder, base_name)\n",
    "unzip_to_folder = os.path.join(model_subfolder, 'extracted')\n",
    "protobuff_path = os.path.join(unzip_to_folder, 'tensorflow_inception_graph.pb')\n",
    "\n",
    "input_tensor_name = \"input:0\""
   ]
  },
  {
   "cell_type": "code",
   "execution_count": 3,
   "metadata": {},
   "outputs": [],
   "source": [
    "def hook(count, block_size, total_size):\n",
    "    percentage = float(count * block_size) / total_size\n",
    "    sys.stdout.write(\"\\r Download progress: {:.1%}\".format(percentage))\n",
    "    sys.stdout.flush()"
   ]
  },
  {
   "cell_type": "code",
   "execution_count": 4,
   "metadata": {},
   "outputs": [
    {
     "name": "stdout",
     "output_type": "stream",
     "text": [
      " Download progress: 100.0%"
     ]
    }
   ],
   "source": [
    "if not os.path.exists(model_subfolder):\n",
    "    os.makedirs(model_subfolder)\n",
    "    \n",
    "if not os.path.exists(unzip_to_folder):\n",
    "    if not os.path.exists(target_zip_path):\n",
    "        file_path, _ = urllib.request.urlretrieve(model_url, target_zip_path, hook)\n",
    "    else:\n",
    "        file_path = target_zip_path\n",
    "\n",
    "    zipfile.ZipFile(file_path).extractall(unzip_to_folder)"
   ]
  },
  {
   "cell_type": "markdown",
   "metadata": {},
   "source": [
    "# Initialize"
   ]
  },
  {
   "cell_type": "code",
   "execution_count": null,
   "metadata": {},
   "outputs": [],
   "source": [
    "graph = tf.Graph()\n",
    "sess = tf.Session(graph=graph)"
   ]
  },
  {
   "cell_type": "code",
   "execution_count": null,
   "metadata": {},
   "outputs": [],
   "source": [
    "with tf.gfile.FastGFile(protobuff_path, 'rb') as f:\n",
    "    graph_def = tf.GraphDef()\n",
    "    graph_def.ParseFromString(f.read())"
   ]
  },
  {
   "cell_type": "code",
   "execution_count": null,
   "metadata": {},
   "outputs": [],
   "source": [
    "with graph.as_default():\n",
    "    input_image_tensor = tf.placeholder(tf.float32, name='input')\n",
    "    input_tensor = tf.expand_dims(input_image_tensor, 0)\n",
    "    tf.import_graph_def(graph_def, {'input': input_tensor})"
   ]
  },
  {
   "cell_type": "markdown",
   "metadata": {},
   "source": [
    "# Image Utils"
   ]
  },
  {
   "cell_type": "code",
   "execution_count": null,
   "metadata": {},
   "outputs": [],
   "source": [
    "def load_image(filename):\n",
    "    image = PIL.Image.open(filename)\n",
    "    image_array = np.float32(image)\n",
    "    return image_array"
   ]
  },
  {
   "cell_type": "code",
   "execution_count": null,
   "metadata": {},
   "outputs": [],
   "source": [
    "def image_from_array(img_arr):\n",
    "    img_arr = np.clip(img_arr, 0, 255)\n",
    "    img_arr  = np.uint8(img_arr)\n",
    "    img_arr = PIL.Image.fromarray(img_arr)\n",
    "    return img_arr"
   ]
  },
  {
   "cell_type": "code",
   "execution_count": null,
   "metadata": {},
   "outputs": [],
   "source": [
    "def normalized(x):\n",
    "    return (x - np.min(x)) / (np.max(x) - np.min(x))"
   ]
  },
  {
   "cell_type": "code",
   "execution_count": null,
   "metadata": {},
   "outputs": [],
   "source": [
    "def resize_image(image, size=None, factor=None):\n",
    "    img = image_from_array(image)\n",
    "    final_size = img.size\n",
    "    \n",
    "    if size:\n",
    "        final_size = size\n",
    "    if factor:\n",
    "        final_size = tuple(map(lambda x: int(x * factor), final_size))\n",
    "        \n",
    "    img = img.resize(final_size, PIL.Image.LANCZOS)\n",
    "    img_arr = np.float32(img)\n",
    "    return img_arr"
   ]
  },
  {
   "cell_type": "code",
   "execution_count": null,
   "metadata": {},
   "outputs": [],
   "source": [
    "def visstd(a, s=0.1):\n",
    "    return (a-a.mean())/max(a.std(), 1e-4)*s + 0.5"
   ]
  },
  {
   "cell_type": "markdown",
   "metadata": {},
   "source": [
    "# Class"
   ]
  },
  {
   "cell_type": "code",
   "execution_count": null,
   "metadata": {},
   "outputs": [],
   "source": [
    "import os\n",
    "import datetime\n",
    "\n",
    "import tensorflow as tf\n",
    "\n",
    "model_url = 'http://storage.googleapis.com/download.tensorflow.org/models/inception5h.zip'\n",
    "base_name = model_url.split('/')[-1]\n",
    "\n",
    "model_subfolder = 'inception5h' \n",
    "target_zip_path = os.path.join(model_subfolder, base_name)\n",
    "unzip_to_folder = os.path.join(model_subfolder, 'extracted')\n",
    "protobuff_path = os.path.join(unzip_to_folder, 'tensorflow_inception_graph.pb')\n",
    "\n",
    "input_tensor_name = \"input:0\"\n",
    "\n",
    "\n",
    "class Inception5hModel:\n",
    "    def __init__(self):\n",
    "        def hook(count, block_size, total_size):\n",
    "            percentage = float(count * block_size) / total_size\n",
    "            sys.stdout.write(\"\\r Download progress: {:.1%}\".format(percentage))\n",
    "            sys.stdout.flush()\n",
    "\n",
    "        if not os.path.exists(model_subfolder):\n",
    "            os.makedirs(model_subfolder)\n",
    "\n",
    "        if not os.path.exists(unzip_to_folder):\n",
    "            if not os.path.exists(target_zip_path):\n",
    "                file_path, _ = urllib.request.urlretrieve(model_url, target_zip_path, hook)\n",
    "            else:\n",
    "                file_path = target_zip_path\n",
    "\n",
    "            zipfile.ZipFile(file_path).extractall(unzip_to_folder)\n",
    "            \n",
    "        self.graph = tf.Graph()\n",
    "        self.sess = tf.Session(graph=self.graph)\n",
    "        \n",
    "        with tf.gfile.FastGFile(protobuff_path, 'rb') as f:\n",
    "            graph_def = tf.GraphDef()\n",
    "            graph_def.ParseFromString(f.read())\n",
    "            \n",
    "        with self.graph.as_default():\n",
    "            self.input_image_tensor = tf.placeholder(tf.float32, name='input')\n",
    "            input_tensor = tf.expand_dims(self.input_image_tensor, 0)\n",
    "            tf.import_graph_def(graph_def, {'input': input_tensor})\n",
    "            \n",
    "    def optimize_image(\n",
    "        self,\n",
    "        layer_tensor,\n",
    "        image,\n",
    "        gradient,\n",
    "        num_iterations=10,\n",
    "        step_size=3.0\n",
    "    ):\n",
    "        img = image.copy()\n",
    "\n",
    "        print(\"Processing image: \", end=\"\")\n",
    "        for it in range(num_iterations):\n",
    "            feed_dict = { self.input_image_tensor: img }\n",
    "            g = self.sess.run(gradient, feed_dict=feed_dict)\n",
    "            g /= (np.std(g) + 1e-8)\n",
    "\n",
    "            sigma = (it * 4.0) / num_iterations + 0.5\n",
    "            grad_smooth1 = gaussian_filter(g, sigma=sigma)\n",
    "            grad_smooth2 = gaussian_filter(g, sigma=sigma*2)\n",
    "            grad_smooth3 = gaussian_filter(g, sigma=sigma*0.5)\n",
    "            g = (grad_smooth1 + grad_smooth2 + grad_smooth3)\n",
    "\n",
    "            step_size_scaled = step_size / (np.std(g) + 1e-8)\n",
    "\n",
    "            img += step_size_scaled * g\n",
    "            print(\". \", end=\"\")\n",
    "\n",
    "        print(\"Done!\")\n",
    "\n",
    "        return img\n",
    "            \n",
    "    def recursive_optimize(\n",
    "        self,\n",
    "        layer_tensor,\n",
    "        image,\n",
    "        gradient,\n",
    "        feature_channel=None,\n",
    "        depth_level=4,\n",
    "        rescale_factor=0.7,\n",
    "        blend=0.2,\n",
    "        num_iterations=10,\n",
    "        step_size=3.0\n",
    "    ):\n",
    "        if depth_level > 0:\n",
    "            sigma = 0.5\n",
    "            img_blur = gaussian_filter(image, sigma=(sigma, sigma, 0.0))\n",
    "            img_downscaled = resize_image(img_blur, factor=rescale_factor)\n",
    "            img_result = self.recursive_optimize(\n",
    "                layer_tensor,\n",
    "                img_downscaled,\n",
    "                gradient,\n",
    "                feature_channel=feature_channel,\n",
    "                depth_level=depth_level-1,\n",
    "                rescale_factor=rescale_factor,\n",
    "                blend=blend,\n",
    "                num_iterations=num_iterations,\n",
    "                step_size=step_size\n",
    "            )\n",
    "            img_upscaled = resize_image(img_result, size=(image.shape[1],image.shape[0]))\n",
    "            image = blend * image + (1 - blend) * img_upscaled\n",
    "\n",
    "        print(\"Depth level:\", depth_level)\n",
    "        img_result = self.optimize_image(layer_tensor, image, gradient, num_iterations, step_size)\n",
    "        return img_result\n",
    "        \n",
    "    def run(\n",
    "        self,\n",
    "        impath,\n",
    "        layer_name='mixed4a',\n",
    "        squared=True,\n",
    "        feature_channel=None,\n",
    "        depth_level=4,\n",
    "        rescale_factor=0.7,\n",
    "        blend=0.2,\n",
    "        num_iterations=10,\n",
    "        step_size=3.0\n",
    "    ):\n",
    "        image = load_image(impath)\n",
    "        with self.graph.as_default():\n",
    "            layer_tensor = self.graph.get_tensor_by_name('import/%s:0' % layer_name)\n",
    "\n",
    "            if squared:\n",
    "                layer_tensor = tf.square(layer_tensor)\n",
    "\n",
    "            if feature_channel is not None:\n",
    "                layer_tensor = layer_tensor[..., feature_channel]\n",
    "\n",
    "            objective = tf.reduce_mean(layer_tensor)\n",
    "            gradient = tf.gradients(objective, self.input_image_tensor)[0]\n",
    "        print(feature_channel)\n",
    "\n",
    "        result = self.recursive_optimize(\n",
    "            layer_tensor,\n",
    "            image,\n",
    "            gradient,\n",
    "            feature_channel=feature_channel,\n",
    "            depth_level=depth_level,\n",
    "            rescale_factor=rescale_factor,\n",
    "            blend=blend,\n",
    "            num_iterations=num_iterations,\n",
    "            step_size=step_size\n",
    "        )\n",
    "        \n",
    "        out_path = '/Users/ramon/Desktop/tests/%s.jpg' % (datetime.datetime.now().strftime('%Y%m%d%H%M%S'))\n",
    "        image_from_array(result).save(out_path)\n",
    "\n",
    "        return out_path"
   ]
  },
  {
   "cell_type": "markdown",
   "metadata": {},
   "source": [
    "# Usage"
   ]
  },
  {
   "cell_type": "code",
   "execution_count": null,
   "metadata": {},
   "outputs": [],
   "source": [
    "inception5hModel = Inception5hModel()\n",
    "inception5hModel.run('images/pilatus800.jpg')"
   ]
  },
  {
   "cell_type": "markdown",
   "metadata": {},
   "source": [
    "# Helpers"
   ]
  },
  {
   "cell_type": "code",
   "execution_count": null,
   "metadata": {},
   "outputs": [],
   "source": [
    "layers = [op.name for op in graph.get_operations() if op.type=='Conv2D']\n",
    "feature_nums = [int(graph.get_tensor_by_name(name+':0').get_shape()[-1]) for name in layers]\n",
    "layers_with_feature_numbers = sorted(list(zip(layers, feature_nums)), key=lambda x: x[0])\n",
    "from pprint import pprint\n",
    "pprint(layers_with_feature_numbers)\n"
   ]
  },
  {
   "cell_type": "code",
   "execution_count": null,
   "metadata": {},
   "outputs": [],
   "source": [
    "import re\n",
    "regex = re.compile('/([a-z]+[a-z0-9]+)_')\n",
    "high_level_layers = set()\n",
    "for l in layers:\n",
    "    res = regex.search(l)\n",
    "    if res is not None: high_level_layers.add(res.group(1))\n",
    "print(sorted(list(high_level_layers)))"
   ]
  }
 ],
 "metadata": {
  "kernelspec": {
   "display_name": "(Deep) Python 3",
   "language": "python",
   "name": "deeppython3"
  },
  "language_info": {
   "codemirror_mode": {
    "name": "ipython",
    "version": 3
   },
   "file_extension": ".py",
   "mimetype": "text/x-python",
   "name": "python",
   "nbconvert_exporter": "python",
   "pygments_lexer": "ipython3",
   "version": "3.6.4"
  }
 },
 "nbformat": 4,
 "nbformat_minor": 2
}
